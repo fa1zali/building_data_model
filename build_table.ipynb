{
 "cells": [
  {
   "cell_type": "code",
   "execution_count": 1,
   "metadata": {},
   "outputs": [],
   "source": [
    "# import libraries\n",
    "import psycopg2\n",
    "import pandas as pd"
   ]
  },
  {
   "cell_type": "code",
   "execution_count": 2,
   "metadata": {},
   "outputs": [],
   "source": [
    "# initialize connection\n",
    "def initialize_connection(host, db_name, user, password):\n",
    "\n",
    "    try:\n",
    "        conn_str = f\"host={host} dbname={db_name} user={user} password={password}\"\n",
    "        conn = psycopg2.connect(conn_str)\n",
    "        conn.set_session(autocommit=True)\n",
    "        cur = conn.cursor()\n",
    "        print(f\"Connection Initialized with {db_name}\")\n",
    "        return conn, cur\n",
    "    except psycopg2.errors as error:\n",
    "        print(f\"Unable to initialize connection: {error}\")\n",
    "        exit()"
   ]
  },
  {
   "cell_type": "code",
   "execution_count": 3,
   "metadata": {},
   "outputs": [],
   "source": [
    "def create_database(conn, cur, db_name):\n",
    "\n",
    "    try:\n",
    "        drop_db_str = f\"DROP DATABASE IF EXISTS {db_name}\"\n",
    "        create_db_str = f\"CREATE DATABASE {db_name}\"\n",
    "        cur.execute(drop_db_str)\n",
    "        cur.execute(create_db_str)\n",
    "        return f\"{db_name} Database Created\"\n",
    "    except psycopg2.errors as error:\n",
    "        print(f\"Unable to create database: {error}\")\n",
    "        exit()"
   ]
  },
  {
   "cell_type": "code",
   "execution_count": 4,
   "metadata": {},
   "outputs": [],
   "source": [
    "def create_table(conn, cur, table_name, table_query):\n",
    "\n",
    "    try:\n",
    "        cur.execute(table_query)\n",
    "        print(f\"{table_name} table created.\")\n",
    "    except psycopg2.errors as error:\n",
    "        print(f\"Unable to create table: {error}\")\n",
    "        exit()"
   ]
  },
  {
   "cell_type": "code",
   "execution_count": 5,
   "metadata": {},
   "outputs": [],
   "source": [
    "def prepare_data(file_path, required_columns):\n",
    "    df = pd.read_csv(file_path)\n",
    "    if len(required_columns) == 0:\n",
    "        return df\n",
    "    else:\n",
    "        df_clean = df[required_columns]\n",
    "        return df_clean"
   ]
  },
  {
   "cell_type": "code",
   "execution_count": 6,
   "metadata": {},
   "outputs": [],
   "source": [
    "def insert_data(conn, cur, df, table_name, table_query):\n",
    "\n",
    "    try:\n",
    "        for i, row in df.iterrows():\n",
    "            cur.execute(table_query, list(row))\n",
    "        print(f\"Data inserted for {table_name}.\")\n",
    "    except Exception as error:\n",
    "        print(f\"Unable to insert rows for {table_name}: {error}\")\n",
    "        exit()"
   ]
  },
  {
   "cell_type": "code",
   "execution_count": 7,
   "metadata": {},
   "outputs": [],
   "source": [
    "# query for creating country database\n",
    "\n",
    "create_country = \"CREATE TABLE IF NOT EXISTS country(country_code VARCHAR PRIMARY KEY,\\\n",
    "                  short_name VARCHAR, table_name VARCHAR, long_name VARCHAR, currency_unit VARCHAR)\"\n",
    "\n",
    "# query for creating account_data database\n",
    "\n",
    "create_account_data = \"CREATE TABLE IF NOT EXISTS account_data(country_name VARCHAR,\\\n",
    "                       country_code VARCHAR, series_name VARCHAR, series_code VARCHAR,\\\n",
    "                       year_2016 numeric, year_2017 numeric, year_2018 numeric)\"\n",
    "\n",
    "# query for creating account_series database\n",
    "\n",
    "create_account_series = \"CREATE TABLE IF NOT EXISTS account_series(code VARCHAR, topic VARCHAR, indicator_name VARCHAR)\"\n",
    "\n",
    "tables = {\"country\": create_country, \"account_data\": create_account_data, \"account_series\": create_account_series}"
   ]
  },
  {
   "cell_type": "code",
   "execution_count": 8,
   "metadata": {},
   "outputs": [],
   "source": [
    "# declaring files and columns for loading\n",
    "country_file_path = \"/dummy/data/Wealth-AccountsCountry.csv\"\n",
    "country_columns = ['Code', 'Short Name', 'Table Name', 'Long Name', 'Currency Unit']\n",
    "\n",
    "account_data_file_path = \"/dummy/data/Wealth-AccountData.csv\"\n",
    "account_data_columns = ['Country Name', 'Country Code', 'Series Name', 'Series Code', '2016 [YR2016]', '2017 [YR2017]', '2018 [YR2018]']\n",
    "\n",
    "account_series_file_path = \"/dummy/data/Wealth-AccountSeries.csv\"\n",
    "account_series_columns = ['Code', 'Topic', 'Indicator Name']\n",
    "\n",
    "country_df = prepare_data(country_file_path, country_columns)\n",
    "account_data_df = prepare_data(account_data_file_path, account_data_columns)\n",
    "account_series_df = prepare_data(account_series_file_path, account_series_columns)"
   ]
  },
  {
   "cell_type": "code",
   "execution_count": 9,
   "metadata": {},
   "outputs": [],
   "source": [
    "# query for inserting data into tables\n",
    "\n",
    "country_data = \"INSERT INTO country(country_code, short_name, table_name, long_name, currency_unit)\\\n",
    "                VALUES(%s, %s, %s, %s, %s)\"\n",
    "\n",
    "account_data = \"INSERT INTO account_data(country_name, country_code, series_name, series_code, year_2016, year_2017, year_2018)\\\n",
    "                VALUES(%s, %s, %s, %s, %s, %s, %s)\"\n",
    "\n",
    "account_series = \"INSERT INTO account_series(code, topic, indicator_name)\\\n",
    "                VALUES(%s, %s, %s)\"\n",
    "\n",
    "data = {\"country\": [country_data, country_df], \"account_data\": [account_data, account_data_df], \"account_series\": [account_series, account_series_df]}"
   ]
  },
  {
   "cell_type": "code",
   "execution_count": 10,
   "metadata": {},
   "outputs": [],
   "source": [
    "def main():\n",
    "    conn, cur =  initialize_connection(host='127.0.0.1', db_name='postgres', user='dummy', password='dummy')\n",
    "    print(create_database(conn, cur, db_name=\"accounts\"))\n",
    "    cur.close()\n",
    "    conn.close()\n",
    "\n",
    "    conn, cur = initialize_connection(host='127.0.0.1', db_name='accounts', user='dummy', password='dummy')\n",
    "    for k,v in tables.items():\n",
    "        create_table(conn, cur, k, v)\n",
    "\n",
    "    for k,v in data.items():\n",
    "        insert_data(conn, cur, v[1], k, v[0])\n",
    "    \n",
    "    cur.close()\n",
    "    conn.close()"
   ]
  },
  {
   "cell_type": "code",
   "execution_count": 11,
   "metadata": {},
   "outputs": [
    {
     "name": "stdout",
     "output_type": "stream",
     "text": [
      "Connection Initialized with postgres\n",
      "accounts Database Created\n",
      "Connection Initialized with accounts\n",
      "country table created.\n",
      "account_data table created.\n",
      "account_series table created.\n",
      "Data inserted for country.\n",
      "Data inserted for account_data.\n",
      "Data inserted for account_series.\n"
     ]
    }
   ],
   "source": [
    "main()"
   ]
  }
 ],
 "metadata": {
  "kernelspec": {
   "display_name": ".venv",
   "language": "python",
   "name": "python3"
  },
  "language_info": {
   "codemirror_mode": {
    "name": "ipython",
    "version": 3
   },
   "file_extension": ".py",
   "mimetype": "text/x-python",
   "name": "python",
   "nbconvert_exporter": "python",
   "pygments_lexer": "ipython3",
   "version": "3.12.1"
  }
 },
 "nbformat": 4,
 "nbformat_minor": 2
}
